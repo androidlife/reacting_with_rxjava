{
 "cells": [
  {
   "cell_type": "markdown",
   "metadata": {},
   "source": [
    "Basics of RxJava\n",
    " - RxJava is mixture of Observer Pattern and Iterable Pattern\n",
    " \n",
    "Key Players of RxJava\n",
    "Observers, Flowables( RxJava 2.0 )\n",
    "\n",
    "Q) Why there is RxAndroid and RxJava\n",
    "RxJava is the core which contains all the reactive implementation. Reactive implementation simply means there is some reactive specification and RxJava is the library the follows it\n",
    "RxAndroid : I believe sits on top of RxJava and exposes reactive bindings of Android. What is reactive bindings? Is it the Android threads or API exposed to reactive\n",
    " This part is not clear\n",
    " \n",
    "FM-> Need to understand : What is reactive specification?\n",
    "     Why there is RxAndroid?\n",
    " \n",
    "1. Import the libraries\n",
    "compile 'io.reactivex:rxandroid:1.2.1'\n",
    "// Because RxAndroid releases are few and far between, it is recommended you also\n",
    "// explicitly depend on RxJava's latest version for bug fixes and new features.\n",
    "compile 'io.reactivex:rxjava:1.1.6'\n",
    "//https://github.com/ReactiveX/RxAndroid\n",
    "\n",
    " \n",
    " "
   ]
  },
  {
   "cell_type": "code",
   "execution_count": null,
   "metadata": {
    "collapsed": true
   },
   "outputs": [],
   "source": []
  }
 ],
 "metadata": {
  "kernelspec": {
   "display_name": "Python 3",
   "language": "python",
   "name": "python3"
  },
  "language_info": {
   "codemirror_mode": {
    "name": "ipython",
    "version": 3
   },
   "file_extension": ".py",
   "mimetype": "text/x-python",
   "name": "python",
   "nbconvert_exporter": "python",
   "pygments_lexer": "ipython3",
   "version": "3.5.2"
  }
 },
 "nbformat": 4,
 "nbformat_minor": 2
}
